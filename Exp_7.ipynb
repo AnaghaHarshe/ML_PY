{
 "cells": [
  {
   "cell_type": "code",
   "execution_count": 2,
   "metadata": {},
   "outputs": [],
   "source": [
    "import pandas as pd\n",
    "import numpy as np"
   ]
  },
  {
   "cell_type": "code",
   "execution_count": 3,
   "metadata": {},
   "outputs": [],
   "source": [
    "df=pd.read_csv('Laptop_price.csv')"
   ]
  },
  {
   "cell_type": "code",
   "execution_count": 4,
   "metadata": {},
   "outputs": [
    {
     "name": "stdout",
     "output_type": "stream",
     "text": [
      "<class 'pandas.core.frame.DataFrame'>\n",
      "RangeIndex: 1000 entries, 0 to 999\n",
      "Data columns (total 7 columns):\n",
      " #   Column            Non-Null Count  Dtype  \n",
      "---  ------            --------------  -----  \n",
      " 0   Brand             1000 non-null   object \n",
      " 1   Processor_Speed   1000 non-null   float64\n",
      " 2   RAM_Size          1000 non-null   int64  \n",
      " 3   Storage_Capacity  1000 non-null   int64  \n",
      " 4   Screen_Size       1000 non-null   float64\n",
      " 5   Weight            1000 non-null   float64\n",
      " 6   Price             1000 non-null   float64\n",
      "dtypes: float64(4), int64(2), object(1)\n",
      "memory usage: 54.8+ KB\n"
     ]
    }
   ],
   "source": [
    "df.info()"
   ]
  },
  {
   "cell_type": "code",
   "execution_count": 5,
   "metadata": {},
   "outputs": [
    {
     "name": "stdout",
     "output_type": "stream",
     "text": [
      "    Brand  Processor_Speed  RAM_Size  Storage_Capacity  Screen_Size    Weight  \\\n",
      "0    Asus         3.830296        16               512    11.185147  2.641094   \n",
      "1    Acer         2.912833         4              1000    11.311372  3.260012   \n",
      "2  Lenovo         3.241627         4               256    11.853023  2.029061   \n",
      "3    Acer         3.806248        16               512    12.280360  4.573865   \n",
      "4    Acer         3.268097        32              1000    14.990877  4.193472   \n",
      "\n",
      "          Price  \n",
      "0  17395.093065  \n",
      "1  31607.605919  \n",
      "2   9291.023542  \n",
      "3  17436.728334  \n",
      "4  32917.990718  \n"
     ]
    }
   ],
   "source": [
    "print(df.head())"
   ]
  },
  {
   "cell_type": "code",
   "execution_count": 6,
   "metadata": {},
   "outputs": [
    {
     "name": "stdout",
     "output_type": "stream",
     "text": [
      "Index(['Brand', 'Processor_Speed', 'RAM_Size', 'Storage_Capacity',\n",
      "       'Screen_Size', 'Weight', 'Price'],\n",
      "      dtype='object')\n"
     ]
    }
   ],
   "source": [
    "print(df.columns)"
   ]
  },
  {
   "cell_type": "code",
   "execution_count": 7,
   "metadata": {},
   "outputs": [],
   "source": [
    "class_column='class'"
   ]
  },
  {
   "cell_type": "code",
   "execution_count": 8,
   "metadata": {},
   "outputs": [
    {
     "name": "stdout",
     "output_type": "stream",
     "text": [
      "Index(['Brand', 'Processor_Speed', 'RAM_Size', 'Storage_Capacity',\n",
      "       'Screen_Size', 'Weight', 'Price'],\n",
      "      dtype='object')\n"
     ]
    }
   ],
   "source": [
    "import pandas as pd\n",
    "\n",
    "#load the CSV File into a DataFrame\n",
    "df = pd.read_csv(\"Laptop_price.csv\")\n",
    "\n",
    "#Print the column names to verify the correct column name\n",
    "print(df.columns)"
   ]
  },
  {
   "cell_type": "code",
   "execution_count": 9,
   "metadata": {},
   "outputs": [
    {
     "name": "stdout",
     "output_type": "stream",
     "text": [
      "    Brand  Processor_Speed  RAM_Size  Storage_Capacity  Screen_Size    Weight  \\\n",
      "0    Asus         3.830296        16               512    11.185147  2.641094   \n",
      "1    Acer         2.912833         4              1000    11.311372  3.260012   \n",
      "2  Lenovo         3.241627         4               256    11.853023  2.029061   \n",
      "3    Acer         3.806248        16               512    12.280360  4.573865   \n",
      "4    Acer         3.268097        32              1000    14.990877  4.193472   \n",
      "\n",
      "          Price  \n",
      "0  17395.093065  \n",
      "1  31607.605919  \n",
      "2   9291.023542  \n",
      "3  17436.728334  \n",
      "4  32917.990718  \n"
     ]
    }
   ],
   "source": [
    "print(df.head())"
   ]
  },
  {
   "cell_type": "code",
   "execution_count": 10,
   "metadata": {},
   "outputs": [
    {
     "name": "stdout",
     "output_type": "stream",
     "text": [
      "Index(['Brand', 'Processor_Speed', 'RAM_Size', 'Storage_Capacity',\n",
      "       'Screen_Size', 'Weight', 'Price'],\n",
      "      dtype='object')\n"
     ]
    }
   ],
   "source": [
    "#Display column names to Identify the Target Veriable.\n",
    "print(df.columns)"
   ]
  },
  {
   "cell_type": "code",
   "execution_count": 11,
   "metadata": {},
   "outputs": [],
   "source": [
    "target_col='Price'"
   ]
  },
  {
   "cell_type": "code",
   "execution_count": 12,
   "metadata": {},
   "outputs": [],
   "source": [
    "class_counts = df[target_col].value_counts()"
   ]
  },
  {
   "cell_type": "code",
   "execution_count": 13,
   "metadata": {},
   "outputs": [],
   "source": [
    "#Calculate the probabilities.\n",
    "total_count = len(df)\n",
    "probabilities = class_counts / total_count"
   ]
  },
  {
   "cell_type": "code",
   "execution_count": 14,
   "metadata": {},
   "outputs": [
    {
     "name": "stdout",
     "output_type": "stream",
     "text": [
      "Entropy:9.965784284662087\n"
     ]
    }
   ],
   "source": [
    "#Calculate Entropy\n",
    "entropy = -np.sum(probabilities * np.log2(probabilities))\n",
    "print(f'Entropy:{entropy}')"
   ]
  }
 ],
 "metadata": {
  "language_info": {
   "name": "python"
  }
 },
 "nbformat": 4,
 "nbformat_minor": 2
}
